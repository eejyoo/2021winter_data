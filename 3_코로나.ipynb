{
  "nbformat": 4,
  "nbformat_minor": 0,
  "metadata": {
    "colab": {
      "name": "3_코로나.ipynb",
      "provenance": [],
      "collapsed_sections": [],
      "authorship_tag": "ABX9TyPSCpf3q/R/vaQFsoJt2QtX",
      "include_colab_link": true
    },
    "kernelspec": {
      "name": "python3",
      "display_name": "Python 3"
    },
    "language_info": {
      "name": "python"
    }
  },
  "cells": [
    {
      "cell_type": "markdown",
      "metadata": {
        "id": "view-in-github",
        "colab_type": "text"
      },
      "source": [
        "<a href=\"https://colab.research.google.com/github/eejyoo/2021winter_data/blob/main/3_%EC%BD%94%EB%A1%9C%EB%82%98.ipynb\" target=\"_parent\"><img src=\"https://colab.research.google.com/assets/colab-badge.svg\" alt=\"Open In Colab\"/></a>"
      ]
    },
    {
      "cell_type": "markdown",
      "source": [
        "#1.데이터 불러오기"
      ],
      "metadata": {
        "id": "Rxs1k37RD5w5"
      }
    },
    {
      "cell_type": "code",
      "execution_count": null,
      "metadata": {
        "id": "BxyLWpQvDWlA"
      },
      "outputs": [],
      "source": [
        "import numpy as np\n",
        "import pandas as pd\n",
        "import matplotlib.pyplot as plt\n",
        "import seaborn as sns"
      ]
    },
    {
      "cell_type": "code",
      "source": [
        "from google.colab import drive\n",
        "drive.mount('/content/drive')"
      ],
      "metadata": {
        "id": "bufqxyEfEGEO"
      },
      "execution_count": null,
      "outputs": []
    },
    {
      "cell_type": "code",
      "source": [
        "file = '/content/drive/MyDrive/데이터분석/data/서울시 코로나19 확진자 현황.csv'\n",
        "corona_all = pd.read_csv(file)"
      ],
      "metadata": {
        "id": "rg0gZq6VEPkN"
      },
      "execution_count": null,
      "outputs": []
    },
    {
      "cell_type": "code",
      "source": [
        "# 불러온 데이터의 상위 5개를 출력합니다.\n"
      ],
      "metadata": {
        "id": "5vmpNM3BEmM1"
      },
      "execution_count": null,
      "outputs": []
    },
    {
      "cell_type": "code",
      "source": [
        "# dataframe 정보를 요약하여 출력합니다.\n"
      ],
      "metadata": {
        "id": "p2lZEcfhEqZF"
      },
      "execution_count": null,
      "outputs": []
    },
    {
      "cell_type": "markdown",
      "source": [
        "#2. 데이터 정제"
      ],
      "metadata": {
        "id": "X-4L93lCHJfS"
      }
    },
    {
      "cell_type": "code",
      "source": [
        "# drop함수를 사용하여 데이터가 존재하지 않는 column을 삭제하고 이 dataframe을 새로운 변수에 저장합니다.\n",
        "corona_del = "
      ],
      "metadata": {
        "id": "GvRRAP1qGLNC"
      },
      "execution_count": null,
      "outputs": []
    },
    {
      "cell_type": "code",
      "source": [
        "corona_del.info()"
      ],
      "metadata": {
        "id": "peJ0TDZ8Hxlm"
      },
      "execution_count": null,
      "outputs": []
    },
    {
      "cell_type": "markdown",
      "source": [
        "#3. 데이터 시각화"
      ],
      "metadata": {
        "id": "ru4PR7Q5I262"
      }
    },
    {
      "cell_type": "markdown",
      "source": [
        "(1) 확진일 데이터 전처리하기"
      ],
      "metadata": {
        "id": "TkUXkHLFI7Ld"
      }
    },
    {
      "cell_type": "code",
      "source": [
        "corona_del['확진일']"
      ],
      "metadata": {
        "id": "1MXBwZCPIo7d"
      },
      "execution_count": null,
      "outputs": []
    },
    {
      "cell_type": "code",
      "source": [
        "# 확진일별로 값을 세고 자동으로 내림차순 정렬까지 완료합니다.\n"
      ],
      "metadata": {
        "id": "ekSsxvDhJMtb"
      },
      "execution_count": null,
      "outputs": []
    },
    {
      "cell_type": "code",
      "source": [
        "# 인덱스에 해당하는 날짜 순으로 정렬합니다.\n"
      ],
      "metadata": {
        "id": "TSjo_Gb7Lvjz"
      },
      "execution_count": null,
      "outputs": []
    },
    {
      "cell_type": "code",
      "source": [
        "# 확진일별 확진자 추이를 그래프로 표현합니다.\n"
      ],
      "metadata": {
        "id": "rDPH7Fj7MMPd"
      },
      "execution_count": null,
      "outputs": []
    },
    {
      "cell_type": "code",
      "source": [
        "# 확진일의 데이터를 나누어 month, day column에 int64 형태로 저장합니다.\n",
        "month = []\n",
        "day = []\n"
      ],
      "metadata": {
        "id": "C561wMHYJjeg"
      },
      "execution_count": null,
      "outputs": []
    },
    {
      "cell_type": "code",
      "source": [
        "corona_del['month'] = month\n",
        "corona_del['day'] = day\n",
        "\n",
        "corona_del['month'].astype('int64')\n",
        "corona_del['day'].astype('int64')"
      ],
      "metadata": {
        "id": "acbmoeppKUw1"
      },
      "execution_count": null,
      "outputs": []
    },
    {
      "cell_type": "code",
      "source": [
        "corona_del.head()"
      ],
      "metadata": {
        "id": "OceRhj_OK_Pg"
      },
      "execution_count": null,
      "outputs": []
    },
    {
      "cell_type": "markdown",
      "source": [
        "(2) 월별 확진자 수 출력하기"
      ],
      "metadata": {
        "id": "6ogE6a-lMlsk"
      }
    },
    {
      "cell_type": "code",
      "source": [
        "order = ['1', '2', '3', '4', '5', '6', '7', '8', '9', '10']"
      ],
      "metadata": {
        "id": "2QU1bV5OLZff"
      },
      "execution_count": null,
      "outputs": []
    },
    {
      "cell_type": "code",
      "source": [
        "# seaborn의 countplot 함수를 사용하여 출력합니다."
      ],
      "metadata": {
        "id": "Ploqc9ZrN6zK"
      },
      "execution_count": null,
      "outputs": []
    },
    {
      "cell_type": "code",
      "source": [
        "# plot 함수를 사용하여 출력할 수도 있습니다.\n"
      ],
      "metadata": {
        "id": "x3rOJPSTROFZ"
      },
      "execution_count": null,
      "outputs": []
    },
    {
      "cell_type": "code",
      "source": [
        "order2 = []\n",
        "for i in range(1, 32):\n",
        "  order2.append(str(i))"
      ],
      "metadata": {
        "id": "vHWSjqpER3LD"
      },
      "execution_count": null,
      "outputs": []
    },
    {
      "cell_type": "code",
      "source": [
        "# seaborn의 countplot 함수를 사용하여 출력합니다."
      ],
      "metadata": {
        "id": "9KprAvI5TxTp"
      },
      "execution_count": null,
      "outputs": []
    }
  ]
}