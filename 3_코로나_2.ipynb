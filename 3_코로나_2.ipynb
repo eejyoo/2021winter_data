{
  "nbformat": 4,
  "nbformat_minor": 0,
  "metadata": {
    "colab": {
      "name": "3_코로나_2.ipynb",
      "provenance": [],
      "collapsed_sections": [],
      "authorship_tag": "ABX9TyO9iFn8evbu4CFsM2SYVRnn",
      "include_colab_link": true
    },
    "kernelspec": {
      "name": "python3",
      "display_name": "Python 3"
    },
    "language_info": {
      "name": "python"
    }
  },
  "cells": [
    {
      "cell_type": "markdown",
      "metadata": {
        "id": "view-in-github",
        "colab_type": "text"
      },
      "source": [
        "<a href=\"https://colab.research.google.com/github/eejyoo/2021winter_data/blob/main/3_%EC%BD%94%EB%A1%9C%EB%82%98_2.ipynb\" target=\"_parent\"><img src=\"https://colab.research.google.com/assets/colab-badge.svg\" alt=\"Open In Colab\"/></a>"
      ]
    },
    {
      "cell_type": "markdown",
      "source": [
        "#1.데이터 불러오기"
      ],
      "metadata": {
        "id": "Rxs1k37RD5w5"
      }
    },
    {
      "cell_type": "code",
      "source": [
        "!sudo apt-get install -y fonts-nanum\n",
        "!sudo fc-cache -fv\n",
        "!rm ~/.cache/matplotlib -rf"
      ],
      "metadata": {
        "id": "iiVVe1D5jHBL"
      },
      "execution_count": null,
      "outputs": []
    },
    {
      "cell_type": "code",
      "execution_count": null,
      "metadata": {
        "id": "BxyLWpQvDWlA"
      },
      "outputs": [],
      "source": [
        "import numpy as np\n",
        "import pandas as pd\n",
        "import matplotlib.pyplot as plt\n",
        "import seaborn as sns"
      ]
    },
    {
      "cell_type": "code",
      "source": [
        "from google.colab import drive\n",
        "drive.mount('/content/drive')"
      ],
      "metadata": {
        "id": "bufqxyEfEGEO"
      },
      "execution_count": null,
      "outputs": []
    },
    {
      "cell_type": "code",
      "source": [
        "file = '/content/drive/MyDrive/데이터분석/data/서울시 코로나19 확진자 현황.csv'\n",
        "corona_all = pd.read_csv(file)"
      ],
      "metadata": {
        "id": "rg0gZq6VEPkN"
      },
      "execution_count": null,
      "outputs": []
    },
    {
      "cell_type": "code",
      "source": [
        "# 불러온 데이터의 상위 5개를 출력합니다.\n",
        "corona_all.head()"
      ],
      "metadata": {
        "id": "5vmpNM3BEmM1"
      },
      "execution_count": null,
      "outputs": []
    },
    {
      "cell_type": "code",
      "source": [
        "# dataframe 정보를 요약하여 출력합니다.\n",
        "corona_all.info()"
      ],
      "metadata": {
        "id": "p2lZEcfhEqZF"
      },
      "execution_count": null,
      "outputs": []
    },
    {
      "cell_type": "markdown",
      "source": [
        "#2. 데이터 정제"
      ],
      "metadata": {
        "id": "X-4L93lCHJfS"
      }
    },
    {
      "cell_type": "code",
      "source": [
        "# drop함수를 사용하여 데이터가 존재하지 않는 column을 삭제하고 이 dataframe을 새로운 변수에 저장합니다.\n",
        "corona_del = corona_all.drop(columns=['국적', '환자정보', '조치사항'])"
      ],
      "metadata": {
        "id": "GvRRAP1qGLNC"
      },
      "execution_count": null,
      "outputs": []
    },
    {
      "cell_type": "code",
      "source": [
        "corona_del.info()"
      ],
      "metadata": {
        "id": "peJ0TDZ8Hxlm"
      },
      "execution_count": null,
      "outputs": []
    },
    {
      "cell_type": "markdown",
      "source": [
        "#3. 데이터 시각화"
      ],
      "metadata": {
        "id": "ru4PR7Q5I262"
      }
    },
    {
      "cell_type": "markdown",
      "source": [
        "(1) 확진일 데이터 전처리하기"
      ],
      "metadata": {
        "id": "TkUXkHLFI7Ld"
      }
    },
    {
      "cell_type": "code",
      "source": [
        "corona_del['확진일']"
      ],
      "metadata": {
        "id": "1MXBwZCPIo7d"
      },
      "execution_count": null,
      "outputs": []
    },
    {
      "cell_type": "code",
      "source": [
        "# 확진일별로 값을 세고 자동으로 내림차순 정렬까지 완료합니다.\n",
        "corona_del['확진일'].value_counts()"
      ],
      "metadata": {
        "id": "ekSsxvDhJMtb"
      },
      "execution_count": null,
      "outputs": []
    },
    {
      "cell_type": "code",
      "source": [
        "# 인덱스에 해당하는 날짜 순으로 정렬합니다.\n",
        "corona_del['확진일'].value_counts().sort_index()"
      ],
      "metadata": {
        "id": "TSjo_Gb7Lvjz"
      },
      "execution_count": null,
      "outputs": []
    },
    {
      "cell_type": "code",
      "source": [
        "# 확진일별 확진자 추이를 그래프로 표현합니다.\n",
        "corona_del['확진일'].value_counts().sort_index().plot()"
      ],
      "metadata": {
        "id": "rDPH7Fj7MMPd"
      },
      "execution_count": null,
      "outputs": []
    },
    {
      "cell_type": "code",
      "source": [
        "# 확진일의 데이터를 나누어 month, day column에 int64 형태로 저장합니다.\n",
        "month = []\n",
        "day = []\n",
        "\n",
        "for i in corona_del['확진일']:\n",
        "  month.append(i.split('.')[0])\n",
        "  day.append(i.split('.')[1])"
      ],
      "metadata": {
        "id": "C561wMHYJjeg"
      },
      "execution_count": null,
      "outputs": []
    },
    {
      "cell_type": "code",
      "source": [
        "corona_del['month'] = month\n",
        "corona_del['day'] = day\n",
        "\n",
        "corona_del['month'].astype('int64')\n",
        "corona_del['day'].astype('int64')"
      ],
      "metadata": {
        "id": "acbmoeppKUw1"
      },
      "execution_count": null,
      "outputs": []
    },
    {
      "cell_type": "code",
      "source": [
        "corona_del.head()"
      ],
      "metadata": {
        "id": "OceRhj_OK_Pg"
      },
      "execution_count": null,
      "outputs": []
    },
    {
      "cell_type": "markdown",
      "source": [
        "(2) 월별 확진자 수 출력하기"
      ],
      "metadata": {
        "id": "6ogE6a-lMlsk"
      }
    },
    {
      "cell_type": "code",
      "source": [
        "order = ['1', '2', '3', '4', '5', '6', '7', '8', '9', '10']"
      ],
      "metadata": {
        "id": "2QU1bV5OLZff"
      },
      "execution_count": null,
      "outputs": []
    },
    {
      "cell_type": "code",
      "source": [
        "# seaborn의 countplot 함수를 사용하여 출력합니다.\n",
        "plt.figure(figsize=(10, 5))\n",
        "\n",
        "sns.set(style=\"darkgrid\")\n",
        "ax = sns.countplot(x=\"month\", data=corona_del, palette=\"Set2\", order=order)"
      ],
      "metadata": {
        "id": "Ploqc9ZrN6zK"
      },
      "execution_count": null,
      "outputs": []
    },
    {
      "cell_type": "code",
      "source": [
        "# plot 함수를 사용하여 출력할 수도 있습니다.\n",
        "corona_del['month'].value_counts().plot(kind=\"bar\")"
      ],
      "metadata": {
        "id": "x3rOJPSTROFZ"
      },
      "execution_count": null,
      "outputs": []
    },
    {
      "cell_type": "code",
      "source": [
        "order2 = []\n",
        "for i in range(1, 32):\n",
        "  order2.append(str(i))"
      ],
      "metadata": {
        "id": "vHWSjqpER3LD"
      },
      "execution_count": null,
      "outputs": []
    },
    {
      "cell_type": "code",
      "source": [
        "# seaborn의 countplot 함수를 사용하여 출력합니다.\n",
        "plt.figure(figsize=(15, 5))\n",
        "\n",
        "sns.set(style=\"darkgrid\")\n",
        "ax = sns.countplot(x=\"day\", data=corona_del, palette=\"Set2\", order=order2)"
      ],
      "metadata": {
        "id": "9KprAvI5TxTp"
      },
      "execution_count": null,
      "outputs": []
    },
    {
      "cell_type": "markdown",
      "source": [
        "# TRY!\n",
        "8월 평균 일별 확진자 수를 구하세요."
      ],
      "metadata": {
        "id": "lfRQIaHZf51Y"
      }
    },
    {
      "cell_type": "code",
      "source": [
        "# 답: 77.93548387096774\n"
      ],
      "metadata": {
        "id": "S161N7MOf5Ns"
      },
      "execution_count": null,
      "outputs": []
    },
    {
      "cell_type": "markdown",
      "source": [
        "(3) 지역별 확진자 수 출력하기"
      ],
      "metadata": {
        "id": "iH7K0TI8hbce"
      }
    },
    {
      "cell_type": "code",
      "source": [
        "corona_del['지역']"
      ],
      "metadata": {
        "id": "DiZMXOYxhbG3"
      },
      "execution_count": null,
      "outputs": []
    },
    {
      "cell_type": "code",
      "source": [
        "import matplotlib.font_manager as fm\n",
        "\n",
        "font_dirs = ['/usr/share/fonts/truetype/nanum', ]\n",
        "font_files = fm.findSystemFonts(fontpaths=font_dirs)\n",
        "\n",
        "for font_file in font_files:\n",
        "  fm.fontManager.addfont(font_file)"
      ],
      "metadata": {
        "id": "WaZz7lEFgWKx"
      },
      "execution_count": null,
      "outputs": []
    },
    {
      "cell_type": "code",
      "source": [
        "# 그래프를 출력합니다.\n"
      ],
      "metadata": {
        "id": "Akr_YmWdiEOQ"
      },
      "execution_count": null,
      "outputs": []
    },
    {
      "cell_type": "code",
      "source": [
        "# replace 함수를 사용하여 이상치 데이터를 변경합니다.\n",
        "# 이상치를 처리한 후 새로운 DataFrame으로 저장합니다.\n",
        "corona_region = "
      ],
      "metadata": {
        "id": "y7CJGVdjibQ9"
      },
      "execution_count": null,
      "outputs": []
    },
    {
      "cell_type": "code",
      "source": [
        "# 그래프를 출력합니다.\n",
        "plt.figure(figsize=(20,10))\n",
        "\n",
        "sns.set(font=\"NanumBarunGothic\", \n",
        "        rc={\"axes.unicode_minus\":False},\n",
        "        style='darkgrid')\n",
        "ax = sns.countplot(x=\"지역\", data=corona_region, palette=\"Set2\")"
      ],
      "metadata": {
        "id": "MS7MLAjIn3Kp"
      },
      "execution_count": null,
      "outputs": []
    },
    {
      "cell_type": "markdown",
      "source": [
        "(4) 8월달 지역별 확진자 수 출력하기"
      ],
      "metadata": {
        "id": "u-Yjj--ooNF9"
      }
    },
    {
      "cell_type": "code",
      "source": [
        "# 8월 데이터만 출력합니다.\n"
      ],
      "metadata": {
        "id": "FIlT0fTqn6Sx"
      },
      "execution_count": null,
      "outputs": []
    },
    {
      "cell_type": "code",
      "source": [
        "# 그래프를 출력합니다.\n"
      ],
      "metadata": {
        "id": "_zU7itAZolg6"
      },
      "execution_count": null,
      "outputs": []
    },
    {
      "cell_type": "markdown",
      "source": [
        "(5) 월별 관악구 확진자 수 출력하기"
      ],
      "metadata": {
        "id": "27UPsPiDo_GH"
      }
    },
    {
      "cell_type": "code",
      "source": [
        "# '관악구'의 'month' Series만 출력합니다.\n"
      ],
      "metadata": {
        "id": "Z9gwls61o2XW"
      },
      "execution_count": null,
      "outputs": []
    },
    {
      "cell_type": "code",
      "source": [
        "# 그래프를 출력합니다.(1월부터 오름차순으로 출력하세요.)\n"
      ],
      "metadata": {
        "id": "jd1oID5bpgs4"
      },
      "execution_count": null,
      "outputs": []
    }
  ]
}