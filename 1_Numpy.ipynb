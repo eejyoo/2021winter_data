{
  "nbformat": 4,
  "nbformat_minor": 0,
  "metadata": {
    "colab": {
      "name": "1_Numpy.ipynb",
      "provenance": [],
      "collapsed_sections": [],
      "authorship_tag": "ABX9TyPhQngVmAY3eCLtyKQ+ETqI",
      "include_colab_link": true
    },
    "kernelspec": {
      "name": "python3",
      "display_name": "Python 3"
    },
    "language_info": {
      "name": "python"
    }
  },
  "cells": [
    {
      "cell_type": "markdown",
      "metadata": {
        "id": "view-in-github",
        "colab_type": "text"
      },
      "source": [
        "<a href=\"https://colab.research.google.com/github/eejyoo/2021winter_data/blob/main/1_Numpy.ipynb\" target=\"_parent\"><img src=\"https://colab.research.google.com/assets/colab-badge.svg\" alt=\"Open In Colab\"/></a>"
      ]
    },
    {
      "cell_type": "markdown",
      "source": [
        "#1.Numpy\n",
        "\n",
        "\n",
        "\n",
        "*   파이썬의 고성능 과학 계산용 패키지\n",
        "*   파이썬 list에 비해 빠르고 메모리 효율적\n",
        "\n",
        "\n",
        "\n",
        "\n",
        "\n"
      ],
      "metadata": {
        "id": "MFOzzmE15WNg"
      }
    },
    {
      "cell_type": "markdown",
      "source": [
        "(1) 배열 생성\n",
        "\n",
        "\n",
        "*   import 를 사용하여 라이브러리 추가\n",
        "*   np 라는 별칭을 사용함\n",
        "*   np.array 함수를 사용하여 배열 생성\n",
        "*   numpy의 배열은 동일한 데이터 타입만 저장할 수 있음(list와 다른점)\n",
        "*   C의 Array를 사용하여 배열을 생성(처리속도 빠름)\n",
        "\n",
        "\n",
        "\n",
        "\n",
        "\n"
      ],
      "metadata": {
        "id": "26vEiEYlX529"
      }
    },
    {
      "cell_type": "code",
      "execution_count": 3,
      "metadata": {
        "id": "042i_qPMnAD8"
      },
      "outputs": [],
      "source": [
        "import numpy as np"
      ]
    },
    {
      "cell_type": "code",
      "source": [
        "arr = np.array([1, 2, 3, 4])\n",
        "arr"
      ],
      "metadata": {
        "id": "thpx4ZSlXzir"
      },
      "execution_count": null,
      "outputs": []
    },
    {
      "cell_type": "code",
      "source": [
        "arr[3]"
      ],
      "metadata": {
        "id": "ZuXaT1ZrYzwU"
      },
      "execution_count": null,
      "outputs": []
    },
    {
      "cell_type": "markdown",
      "source": [
        "(2) ndarray의 속성\n",
        "\n",
        "\n",
        "*   dtype: 데이터타입\n",
        "*   shape: 배열의 모양\n",
        "*   ndim: 차원의 개수\n",
        "*   size: 데이터의 개수\n",
        "\n"
      ],
      "metadata": {
        "id": "v_5Eubf9Zgr4"
      }
    },
    {
      "cell_type": "code",
      "source": [
        "type(arr)"
      ],
      "metadata": {
        "id": "yncFL3mBY2rP"
      },
      "execution_count": null,
      "outputs": []
    },
    {
      "cell_type": "code",
      "source": [
        "arr.dtype"
      ],
      "metadata": {
        "id": "HZoOx62pY5hv"
      },
      "execution_count": null,
      "outputs": []
    },
    {
      "cell_type": "code",
      "source": [
        "arr.shape"
      ],
      "metadata": {
        "id": "HKVJlos8Y9ch"
      },
      "execution_count": null,
      "outputs": []
    },
    {
      "cell_type": "code",
      "source": [
        "arr.ndim"
      ],
      "metadata": {
        "id": "BnmedqNLZLDR"
      },
      "execution_count": null,
      "outputs": []
    },
    {
      "cell_type": "code",
      "source": [
        "arr.size"
      ],
      "metadata": {
        "id": "4t_6lNTIZNAu"
      },
      "execution_count": null,
      "outputs": []
    },
    {
      "cell_type": "markdown",
      "source": [
        "<Try!> 그림과 같은 2차원 배열을 생성하고, 배열의 모양과 차원, 데이터의 개수를 출력하시오.\n",
        "\n",
        "![제목 없음.png](data:image/png;base64,iVBORw0KGgoAAAANSUhEUgAAATwAAACcCAIAAABtDIALAAAAAXNSR0IArs4c6QAAAARnQU1BAACxjwv8YQUAAAAJcEhZcwAAFiUAABYlAUlSJPAAAAlCSURBVHhe7d1PSFRfH8fxnw/RH5Bs1IIWSviHkAKFFBc5iyxx0EVIkWPkKkgdqFbOkNYqNGdWLcLBwEWLcAb6R+E0Y4vZDEnNEA5EQqZEqyj/YOtgni+eM2IaPQo9/PjOvF+L2zlnLkTfuZ97z7l3minIZDL/ANDjP/ZPAEoQWkAZQgsoQ2gBZQgtoAyhBZQhtIAyhBZQhtACyhBaQBlCCyhDaAFlCC2gDKEFlCG0gDKEFlCG0ALKEFpAmZ193UxHR8fU1FRxcbHtI+vnz5/fv38/fPiw7WODr1+/OhyOPXv22D6yVldXjx49mkwmbX97dhba/v7+J0+eXL9+3faRNTc3d+/evZGRkX379tkhZMlhc+HChYaGBttH1oMHD8rKyp49e2b727Pj0E5PTycSCdtHVjweb25uXl5elkuKHUJWYWFhMBjs7u62fWS53W7ZhkIh090m1rSAMoQWUIbQAsoQWkAZQgsoQ2gBZQgtoAyhBZQhtIAyhBZQhtACyhBaQBlCCyhDaAFlCC2gDKEFlCG0gDKEFlCG0ALK6A5tIpEoLi7mO6vWSSncbrfUpKCgQLbSTqfT9rU8trS0FAgEXC6XlMVUxuPx6K2M1tDK2yB1dzqdKysrdijvhUIhKUg4HDY1ka206+rqIpGI2SFvjY+P+3y+WCxmulKZYDCotzL6QisnyMHBwerqaqm7HcKarq6u+vr6ycnJzJqZmZnOzk4Zv3TpkpzjzD75qaioyO/3S0E2VebatWtmB130hVZOmcPDw9KQt6G1tdUMQvT19SWTyba2NtOtra2Va6+USC4ss7OzZjA/9fT0eL1eKYjpmspUVlbOz8+bEV30hfbAgQMDAwOpVEreBjuENaOjo7a1QXNzs23hV1VVVbaljb7QyjlyaGiooqLC9vFHq6urtoUNZL3w9u1bpTM1rTeisB1yaIbDYWnU1NSYESwsLMh5v7GxUdqywjKDuhDaXHbr1i1ZtsmhWVJSYofyVSAQMM97ZCnr8Xg6Ozvn5ubWV7m6ENrcZB6JBYPBvr4+Fv+brKysDA8PyxlN6U11QpuD0um0TP9MYn97dyoPyZnLPO9ZXFycnJyUK63Ux+Vyacwtoc01Y2NjdXV1y8vLcmiS2K1kpdDW1ibLWjmjpVKpR48e2Rf0ILQ5RabEvb29ZsG2/sAWv3Xx4kXZPn361HQVIbS5Y3Bw0EyJ5TLCnaccRmhzxMLCwvDwcGtrK1PibXr58qVsNX74hNDmiFevXsmWzz9tlUgkZNUQiUTW7zml02m32y3nOIfDcf78eTOoCKHNEeaTTz6fzzyN3MTlcpnd8pOsGtrb20tLS0016urqwuGwJDYej2v8aB2hzRHv3r2zLfyqqalpYmJi4ycW6+vr/X4/H674d0Sj0UwmI++K7eexUChknkP+lhTK7peXZDJsDhUjmUx6vV699+q40gLKEFpAGUILKENoAWUILaAMoQWUIbSAMoQWUIbQAsoQWkAZQgsoQ2gBZQgtoAyhBZQhtIAyhBZQhtACyhBaQBlCCyhTkMlkbHMbzp49G4/Hjx8/bvvIWl1d/fDhQ0NDw65du+wQst68eVNRUXHw4EHbR9bHjx/Ly8t3+qV8Owutx+N5/vy5+T0FbPTly5dwOHz16tW9e/faIWTdvXu3paXl2LFjto+sFy9elJWVTU1N2f727Cy0/f3909PTiUTC9pElE5Dm5ubl5WWHw2GHkFVYWBgMBru7u20fWW63W7ahUMh0t4k1LaAMoQWUIbSAMoQWUIbQAsoQWkAZQgsoQ2gBZQgtoAyhBZQhtIAyhBZQhtACyhBaQBlCCyhDaAFlCC2gDKEFlCG0gDLqQxsKhQrW2H4eSyQSphSbuFwuu0fekxK53e7i4mIpi2w9Hs/S0pJ9TQ/1ob1586ZtAX8UCAScTmc4HF5ZWZGubIPB4Pj4uHlVEd2hHRsbm5+ft5289+PHD9n6/f7Mr6LRqNkhn8mMzOfzSUPqI8eMlGVxcXFiYqKoqMjsoIji0C4sLNy4caO1tdX289779+9ly1fJbyVzYJkJS2NmZsbr9VZUVEi7pKREpso9PT1ru2iiOLTmbRgdHTVdGPv377ctZMkcWCbDco2tra21Q5ppDa1MjGOx2J07d8xZE/iD+/fvy/by5cumq53K0KbT6d7eXpkYa5zb/P98/vxZtk6n09w0bmhoCAQCGu+O/l1SAVnEytEi82EpSFVV1fqtY1lh2Z1U0RdaeQ9OnTrlcDgePnxoh7Bm0yGYSqV8Pl91dbWc4+xQXpqdnZWtzMgkpVIQc+fS3Dqur6/XWBx9oXW5XFLxeDwuJ047hDWyvDe3i4W5NSoHpdTq3Llzdo88Jme0UCgkNZHKSH1mZmbk2qu0OMpCKydLuYBI6XPjjsLftXF5b26NRqPRyspKubZEIhH7Qr6KxWJyopeamHO9HD/rxVH3g3KaQisLEpnS+P1+81tj+J/kAO3v75eGeRqUz+S6uvVEf+XKFdm+fv3adLXQFFrzcFy25kbLOvOqafMznJvwq7C5R9+aFjui7jLy19XU1Mj206dPpruVug9FaQqtucWy1cZXm5qaTBdiaWlpZGREGvn8uTFZI8g/X9auY2NjdmiNFMc8v21paTEjWnClzR0ulysSiZgHs7INhUKNjY0rKyu/Xc7lFfO/Snp7eyW3pj6yjJJySZL7+vrUfT6H0OaOWCzW3t5eWloqa3vZdnV1yUFZX1/PA22Zfw0MDEhDcmvq43Q6U6mUFOf27dtmH0UIbe6YmJjYOA2Wtowkk0keaIuhoaHJyUlJqelKw+/3Ky1OLoTWrGZtJ4+ZB7OmGkLaPBvbqK2tTVJqiiMNr9drX9CGKy2gDKEFlCG0gDKEFlCG0ALKEFpAGUILKENoAWUILaAMoQWUIbSAMoQWUIbQAsoQWkAZQgsoQ2gBZQgtoAyhBZQhtIAyBZmdfLtSd3d3NBo9ffq07SPr27dv8Xi8o6Nj9+7ddghZjx8/PnHixJEjR2wfWdPT02VlZTv9WYydXWnPnDkjf4ftYINDhw6Vl5eT2N+SY0aKYzvYQCpz8uRJ29m2nV1pAfzrWNMCyhBaQBlCCyhDaAFlCC2gDKEFlCG0gDKEFlCG0ALKEFpAGUILKENoAWUILaAMoQWUIbSAMoQWUOWff/4LoEiXzO5riYAAAAAASUVORK5CYII=)"
      ],
      "metadata": {
        "id": "DE-68E2LcDEQ"
      }
    },
    {
      "cell_type": "code",
      "source": [
        "import numpy as np\n",
        "arr2 = np.array([[1,2,3],[4,5,6]])\n",
        "arr2"
      ],
      "metadata": {
        "id": "QsBCK6biZWqc"
      },
      "execution_count": null,
      "outputs": []
    },
    {
      "cell_type": "markdown",
      "source": [
        "(3) reshape\n",
        "\n",
        "\n",
        "*   배열 항목의 수가 같을 때 다른 차원으로 변형이 가능함.\n",
        "\n"
      ],
      "metadata": {
        "id": "fRj1w-YWfeWk"
      }
    },
    {
      "cell_type": "code",
      "source": [
        "m = np.arange(8)\n",
        "m"
      ],
      "metadata": {
        "id": "VEs7u5lafxSu"
      },
      "execution_count": null,
      "outputs": []
    },
    {
      "cell_type": "code",
      "source": [
        "m.shape"
      ],
      "metadata": {
        "id": "Kbqe6YZhglxj"
      },
      "execution_count": null,
      "outputs": []
    },
    {
      "cell_type": "code",
      "source": [
        "m.size"
      ],
      "metadata": {
        "id": "HpyhxrCIgxpx"
      },
      "execution_count": null,
      "outputs": []
    },
    {
      "cell_type": "code",
      "source": [
        "m.reshape(2,4)"
      ],
      "metadata": {
        "id": "tynW2-gYgZe1"
      },
      "execution_count": null,
      "outputs": []
    },
    {
      "cell_type": "code",
      "source": [
        "m.reshape(2,4).size"
      ],
      "metadata": {
        "id": "T-oVIw-Hg5bC"
      },
      "execution_count": null,
      "outputs": []
    },
    {
      "cell_type": "markdown",
      "source": [
        "(4) 인덱싱과 슬라이싱\n",
        "\n",
        "\n",
        "*   배열의 인덱스는 0부터 시작함.\n",
        "*   배열의 인덱스를 활용하여 값을 찾아내거나 배열의 일부분을 가져올 수 있음.\n",
        "*   boolean indexing: Boolean Mask를 이용하여 원하는 값을 추출하는 것.\n",
        "\n"
      ],
      "metadata": {
        "id": "JBmO7sXpdI_Z"
      }
    },
    {
      "cell_type": "code",
      "source": [
        "x = np.arange(7)\n",
        "x"
      ],
      "metadata": {
        "id": "IBONONUBdw-8"
      },
      "execution_count": null,
      "outputs": []
    },
    {
      "cell_type": "code",
      "source": [
        "x[3]"
      ],
      "metadata": {
        "id": "eF9I7oGTeN3q"
      },
      "execution_count": null,
      "outputs": []
    },
    {
      "cell_type": "code",
      "source": [
        "print(x[1:3])"
      ],
      "metadata": {
        "id": "Zcf2j9qPeQxW"
      },
      "execution_count": null,
      "outputs": []
    },
    {
      "cell_type": "code",
      "source": [
        "print(x[x > 5])"
      ],
      "metadata": {
        "id": "xcyJLRHxfQSt"
      },
      "execution_count": null,
      "outputs": []
    },
    {
      "cell_type": "code",
      "source": [
        "print(x[1:3])"
      ],
      "metadata": {
        "id": "U0EP7Jeche43"
      },
      "execution_count": null,
      "outputs": []
    },
    {
      "cell_type": "code",
      "source": [
        "print(x[4:])"
      ],
      "metadata": {
        "id": "GCT-AbHxhkcZ"
      },
      "execution_count": null,
      "outputs": []
    },
    {
      "cell_type": "markdown",
      "source": [
        "<Try!>\n",
        "주어진 배열에서 y<3인 요소만 출력하시오."
      ],
      "metadata": {
        "id": "LcHdiXCig_R5"
      }
    },
    {
      "cell_type": "code",
      "source": [
        "y = np.array(range(1, 9))\n",
        "y"
      ],
      "metadata": {
        "id": "vhiPlB8kd5tM"
      },
      "execution_count": null,
      "outputs": []
    },
    {
      "cell_type": "code",
      "source": [
        ""
      ],
      "metadata": {
        "id": "RxrxZJmZeBmy"
      },
      "execution_count": null,
      "outputs": []
    },
    {
      "cell_type": "markdown",
      "source": [
        "# 실습: 환자 데이터 분석\n",
        "환자에게 신약을 투여한 후의 염증 수치를 기록한 데이터를 분석한다. 각 데이터는 콤마(,)로 분리되어 있고, 행은 각 환자이며 열은 연속한 날짜별 염증 수치를 기록하고 있다."
      ],
      "metadata": {
        "id": "GrNYAsnthwiB"
      }
    },
    {
      "cell_type": "code",
      "source": [
        "from google.colab import drive\n",
        "drive.mount('/content/drive/')"
      ],
      "metadata": {
        "colab": {
          "base_uri": "https://localhost:8080/"
        },
        "id": "aEy3oehqiPxG",
        "outputId": "4451ced4-2562-4d2e-ddad-f66df3382a60"
      },
      "execution_count": 1,
      "outputs": [
        {
          "output_type": "stream",
          "name": "stdout",
          "text": [
            "Mounted at /content/drive/\n"
          ]
        }
      ]
    },
    {
      "cell_type": "code",
      "source": [
        "file = \n",
        "data = np.loadtxt(file, delimiter=',', dtype=np.int32)"
      ],
      "metadata": {
        "id": "g4EMgUP9iyeZ"
      },
      "execution_count": 5,
      "outputs": []
    }
  ]
}