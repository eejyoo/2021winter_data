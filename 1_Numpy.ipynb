{
  "nbformat": 4,
  "nbformat_minor": 0,
  "metadata": {
    "colab": {
      "name": "1_Numpy.ipynb",
      "provenance": [],
      "collapsed_sections": [],
      "authorship_tag": "ABX9TyOZnsF/SEmnJR1EnP2c6rr0",
      "include_colab_link": true
    },
    "kernelspec": {
      "name": "python3",
      "display_name": "Python 3"
    },
    "language_info": {
      "name": "python"
    }
  },
  "cells": [
    {
      "cell_type": "markdown",
      "metadata": {
        "id": "view-in-github",
        "colab_type": "text"
      },
      "source": [
        "<a href=\"https://colab.research.google.com/github/eejyoo/2021winter_data/blob/main/1_Numpy.ipynb\" target=\"_parent\"><img src=\"https://colab.research.google.com/assets/colab-badge.svg\" alt=\"Open In Colab\"/></a>"
      ]
    },
    {
      "cell_type": "markdown",
      "source": [
        "#1.Numpy\n",
        "\n",
        "\n",
        "\n",
        "*   파이썬의 고성능 과학 계산용 패키지\n",
        "*   파이썬 list에 비해 빠르고 메모리 효율적\n",
        "\n",
        "\n",
        "\n",
        "\n",
        "\n"
      ],
      "metadata": {
        "id": "MFOzzmE15WNg"
      }
    },
    {
      "cell_type": "markdown",
      "source": [
        "(1) 배열 생성\n",
        "\n",
        "\n",
        "*   import 를 사용하여 라이브러리 추가\n",
        "*   np 라는 별칭을 사용함\n",
        "*   np.array 함수를 사용하여 배열 생성\n",
        "*   numpy의 배열은 동일한 데이터 타입만 저장할 수 있음(list와 다른점)\n",
        "*   C의 Array를 사용하여 배열을 생성(처리속도 빠름)\n",
        "\n",
        "\n",
        "\n",
        "\n",
        "\n"
      ],
      "metadata": {
        "id": "26vEiEYlX529"
      }
    },
    {
      "cell_type": "code",
      "execution_count": null,
      "metadata": {
        "id": "042i_qPMnAD8"
      },
      "outputs": [],
      "source": [
        "import numpy as np"
      ]
    },
    {
      "cell_type": "code",
      "source": [
        "arr = np.array([1, 2, 3, 4])\n",
        "arr"
      ],
      "metadata": {
        "colab": {
          "base_uri": "https://localhost:8080/"
        },
        "id": "thpx4ZSlXzir",
        "outputId": "266d4868-e612-40e8-9a6f-b1463ccb3fc2"
      },
      "execution_count": null,
      "outputs": [
        {
          "output_type": "execute_result",
          "data": {
            "text/plain": [
              "array([1, 2, 3, 4])"
            ]
          },
          "metadata": {},
          "execution_count": 12
        }
      ]
    },
    {
      "cell_type": "code",
      "source": [
        "arr[3]"
      ],
      "metadata": {
        "colab": {
          "base_uri": "https://localhost:8080/"
        },
        "id": "ZuXaT1ZrYzwU",
        "outputId": "55b482b8-ab87-43c3-b93e-3565337c6cad"
      },
      "execution_count": null,
      "outputs": [
        {
          "output_type": "execute_result",
          "data": {
            "text/plain": [
              "4"
            ]
          },
          "metadata": {},
          "execution_count": 3
        }
      ]
    },
    {
      "cell_type": "markdown",
      "source": [
        "(2) ndarray의 속성\n",
        "\n",
        "\n",
        "*   dtype: 데이터타입\n",
        "*   shape: 배열의 모양\n",
        "*   ndim: 차원의 개수\n",
        "*   size: 데이터의 개수\n",
        "\n"
      ],
      "metadata": {
        "id": "v_5Eubf9Zgr4"
      }
    },
    {
      "cell_type": "code",
      "source": [
        "type(arr)"
      ],
      "metadata": {
        "colab": {
          "base_uri": "https://localhost:8080/"
        },
        "id": "yncFL3mBY2rP",
        "outputId": "64136c19-2039-4ca8-9845-c81461039138"
      },
      "execution_count": null,
      "outputs": [
        {
          "output_type": "execute_result",
          "data": {
            "text/plain": [
              "numpy.ndarray"
            ]
          },
          "metadata": {},
          "execution_count": 4
        }
      ]
    },
    {
      "cell_type": "code",
      "source": [
        "arr.dtype"
      ],
      "metadata": {
        "colab": {
          "base_uri": "https://localhost:8080/"
        },
        "id": "HZoOx62pY5hv",
        "outputId": "fdc3c263-c1d7-4202-dd58-cc91348d57ba"
      },
      "execution_count": null,
      "outputs": [
        {
          "output_type": "execute_result",
          "data": {
            "text/plain": [
              "dtype('int64')"
            ]
          },
          "metadata": {},
          "execution_count": 13
        }
      ]
    },
    {
      "cell_type": "code",
      "source": [
        "arr.shape"
      ],
      "metadata": {
        "colab": {
          "base_uri": "https://localhost:8080/"
        },
        "id": "HKVJlos8Y9ch",
        "outputId": "2e1a3527-ed41-40db-bd09-c5524d8f0957"
      },
      "execution_count": null,
      "outputs": [
        {
          "output_type": "execute_result",
          "data": {
            "text/plain": [
              "(4,)"
            ]
          },
          "metadata": {},
          "execution_count": 14
        }
      ]
    },
    {
      "cell_type": "code",
      "source": [
        "arr.ndim"
      ],
      "metadata": {
        "colab": {
          "base_uri": "https://localhost:8080/"
        },
        "id": "BnmedqNLZLDR",
        "outputId": "423a7e35-b72a-426e-853d-4abd3e3ccebf"
      },
      "execution_count": null,
      "outputs": [
        {
          "output_type": "execute_result",
          "data": {
            "text/plain": [
              "1"
            ]
          },
          "metadata": {},
          "execution_count": 15
        }
      ]
    },
    {
      "cell_type": "code",
      "source": [
        "arr.size"
      ],
      "metadata": {
        "colab": {
          "base_uri": "https://localhost:8080/"
        },
        "id": "4t_6lNTIZNAu",
        "outputId": "afd8e60a-837b-429f-a368-74b80c8c8c46"
      },
      "execution_count": null,
      "outputs": [
        {
          "output_type": "execute_result",
          "data": {
            "text/plain": [
              "4"
            ]
          },
          "metadata": {},
          "execution_count": 16
        }
      ]
    },
    {
      "cell_type": "markdown",
      "source": [
        "<Try!> 그림과 같은 2차원 배열을 생성하고, 배열의 모양과 차원, 데이터의 개수를 출력하시오.\n",
        "\n",
        "![제목 없음.png](data:image/png;base64,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)"
      ],
      "metadata": {
        "id": "DE-68E2LcDEQ"
      }
    },
    {
      "cell_type": "code",
      "source": [
        "import numpy as np\n",
        "arr2 = np.array([[1,2,3],[4,5,6]])\n",
        "arr2"
      ],
      "metadata": {
        "id": "QsBCK6biZWqc",
        "colab": {
          "base_uri": "https://localhost:8080/"
        },
        "outputId": "b662b5c3-5fcf-4457-b4e9-eac970744f23"
      },
      "execution_count": 2,
      "outputs": [
        {
          "output_type": "execute_result",
          "data": {
            "text/plain": [
              "array([[1, 2, 3],\n",
              "       [4, 5, 6]])"
            ]
          },
          "metadata": {},
          "execution_count": 2
        }
      ]
    },
    {
      "cell_type": "markdown",
      "source": [
        "(3) reshape\n",
        "\n",
        "\n",
        "*   배열 항목의 수가 같을 때 다른 차원으로 변형이 가능함.\n",
        "\n"
      ],
      "metadata": {
        "id": "fRj1w-YWfeWk"
      }
    },
    {
      "cell_type": "code",
      "source": [
        "m = np.arange(8)\n",
        "m"
      ],
      "metadata": {
        "colab": {
          "base_uri": "https://localhost:8080/"
        },
        "id": "VEs7u5lafxSu",
        "outputId": "938d35de-6cd4-40ca-b8d0-831ce2a174b1"
      },
      "execution_count": null,
      "outputs": [
        {
          "output_type": "execute_result",
          "data": {
            "text/plain": [
              "array([0, 1, 2, 3, 4, 5, 6, 7])"
            ]
          },
          "metadata": {},
          "execution_count": 39
        }
      ]
    },
    {
      "cell_type": "code",
      "source": [
        "m.shape"
      ],
      "metadata": {
        "colab": {
          "base_uri": "https://localhost:8080/"
        },
        "id": "Kbqe6YZhglxj",
        "outputId": "108e0790-56c6-4e3c-a452-f0ea7072e85e"
      },
      "execution_count": null,
      "outputs": [
        {
          "output_type": "execute_result",
          "data": {
            "text/plain": [
              "(8,)"
            ]
          },
          "metadata": {},
          "execution_count": 40
        }
      ]
    },
    {
      "cell_type": "code",
      "source": [
        "m.size"
      ],
      "metadata": {
        "colab": {
          "base_uri": "https://localhost:8080/"
        },
        "id": "HpyhxrCIgxpx",
        "outputId": "15828fee-b39f-437a-83fe-4d8497d24350"
      },
      "execution_count": null,
      "outputs": [
        {
          "output_type": "execute_result",
          "data": {
            "text/plain": [
              "8"
            ]
          },
          "metadata": {},
          "execution_count": 42
        }
      ]
    },
    {
      "cell_type": "code",
      "source": [
        "m.reshape(2,4)"
      ],
      "metadata": {
        "colab": {
          "base_uri": "https://localhost:8080/"
        },
        "id": "tynW2-gYgZe1",
        "outputId": "06b5bc2c-20e4-46ea-fe98-213dbc971573"
      },
      "execution_count": null,
      "outputs": [
        {
          "output_type": "execute_result",
          "data": {
            "text/plain": [
              "array([[0, 1, 2, 3],\n",
              "       [4, 5, 6, 7]])"
            ]
          },
          "metadata": {},
          "execution_count": 44
        }
      ]
    },
    {
      "cell_type": "code",
      "source": [
        "m.reshape(2,4).size"
      ],
      "metadata": {
        "colab": {
          "base_uri": "https://localhost:8080/"
        },
        "id": "T-oVIw-Hg5bC",
        "outputId": "79775e1f-a577-49f3-eb1a-113fb2dc6b58"
      },
      "execution_count": null,
      "outputs": [
        {
          "output_type": "execute_result",
          "data": {
            "text/plain": [
              "8"
            ]
          },
          "metadata": {},
          "execution_count": 45
        }
      ]
    },
    {
      "cell_type": "markdown",
      "source": [
        "(4) 인덱싱과 슬라이싱\n",
        "\n",
        "\n",
        "*   배열의 인덱스는 0부터 시작함.\n",
        "*   배열의 인덱스를 활용하여 값을 찾아내거나 배열의 일부분을 가져올 수 있음.\n",
        "*   boolean indexing: Boolean Mask를 이용하여 원하는 값을 추출하는 것.\n",
        "\n"
      ],
      "metadata": {
        "id": "JBmO7sXpdI_Z"
      }
    },
    {
      "cell_type": "code",
      "source": [
        "x = np.arange(7)\n",
        "x"
      ],
      "metadata": {
        "colab": {
          "base_uri": "https://localhost:8080/"
        },
        "id": "IBONONUBdw-8",
        "outputId": "d43ad365-9576-4307-9cb1-6b0ad891a621"
      },
      "execution_count": null,
      "outputs": [
        {
          "output_type": "execute_result",
          "data": {
            "text/plain": [
              "array([0, 1, 2, 3, 4, 5, 6])"
            ]
          },
          "metadata": {},
          "execution_count": 21
        }
      ]
    },
    {
      "cell_type": "code",
      "source": [
        "x[3]"
      ],
      "metadata": {
        "colab": {
          "base_uri": "https://localhost:8080/"
        },
        "id": "eF9I7oGTeN3q",
        "outputId": "e2c65d74-6605-40a6-9ab9-60ae5724cb1e"
      },
      "execution_count": null,
      "outputs": [
        {
          "output_type": "execute_result",
          "data": {
            "text/plain": [
              "3"
            ]
          },
          "metadata": {},
          "execution_count": 23
        }
      ]
    },
    {
      "cell_type": "code",
      "source": [
        "print(x[1:3])"
      ],
      "metadata": {
        "colab": {
          "base_uri": "https://localhost:8080/"
        },
        "id": "Zcf2j9qPeQxW",
        "outputId": "6f248f15-abce-4483-a39a-4ee1c4ad922c"
      },
      "execution_count": null,
      "outputs": [
        {
          "output_type": "stream",
          "name": "stdout",
          "text": [
            "[1 2]\n"
          ]
        }
      ]
    },
    {
      "cell_type": "code",
      "source": [
        "print(x[x > 5])"
      ],
      "metadata": {
        "colab": {
          "base_uri": "https://localhost:8080/"
        },
        "id": "xcyJLRHxfQSt",
        "outputId": "d61f8302-68b4-403b-efc1-7cab3f5bd0a3"
      },
      "execution_count": null,
      "outputs": [
        {
          "output_type": "stream",
          "name": "stdout",
          "text": [
            "[6]\n"
          ]
        }
      ]
    },
    {
      "cell_type": "code",
      "source": [
        "print(x[1:3])"
      ],
      "metadata": {
        "colab": {
          "base_uri": "https://localhost:8080/"
        },
        "id": "U0EP7Jeche43",
        "outputId": "c090b7df-1124-46fe-d47c-b81d1e05eb1a"
      },
      "execution_count": null,
      "outputs": [
        {
          "output_type": "stream",
          "name": "stdout",
          "text": [
            "[1 2]\n"
          ]
        }
      ]
    },
    {
      "cell_type": "code",
      "source": [
        "print(x[4:])"
      ],
      "metadata": {
        "colab": {
          "base_uri": "https://localhost:8080/"
        },
        "id": "GCT-AbHxhkcZ",
        "outputId": "5c6c206f-71d9-4a7d-c00b-de96e97886ac"
      },
      "execution_count": null,
      "outputs": [
        {
          "output_type": "stream",
          "name": "stdout",
          "text": [
            "[4 5 6]\n"
          ]
        }
      ]
    },
    {
      "cell_type": "markdown",
      "source": [
        "<Try!>\n",
        "주어진 배열에서 y<3인 요소만 출력하시오."
      ],
      "metadata": {
        "id": "LcHdiXCig_R5"
      }
    },
    {
      "cell_type": "code",
      "source": [
        "y = np.array(range(1, 9))\n",
        "y"
      ],
      "metadata": {
        "colab": {
          "base_uri": "https://localhost:8080/"
        },
        "id": "vhiPlB8kd5tM",
        "outputId": "6ba8edd2-52e8-4835-eb03-d3edb447c252"
      },
      "execution_count": null,
      "outputs": [
        {
          "output_type": "execute_result",
          "data": {
            "text/plain": [
              "array([1, 2, 3, 4, 5, 6, 7, 8])"
            ]
          },
          "metadata": {},
          "execution_count": 33
        }
      ]
    },
    {
      "cell_type": "code",
      "source": [
        "print(y[y < 3])"
      ],
      "metadata": {
        "colab": {
          "base_uri": "https://localhost:8080/"
        },
        "id": "RxrxZJmZeBmy",
        "outputId": "1fd20d4d-e348-442c-906d-062e8398fadb"
      },
      "execution_count": null,
      "outputs": [
        {
          "output_type": "stream",
          "name": "stdout",
          "text": [
            "[1 2]\n"
          ]
        }
      ]
    },
    {
      "cell_type": "markdown",
      "source": [
        "# 실습: 관절염 환자 데이터 분석\n",
        "관절염 환자에게 신약을 투여한 후의 염증 수치를 기록한 데이터를 분석한다. 각 데이터는 콤마(,)로 분리되어 있고, 행은 각 환자이며 열은 연속한 날짜별 염증 수치를 기록하고 있다."
      ],
      "metadata": {
        "id": "GrNYAsnthwiB"
      }
    },
    {
      "cell_type": "code",
      "source": [
        "from google.colab import drive\n",
        "drive.mount('/content/drive/')"
      ],
      "metadata": {
        "colab": {
          "base_uri": "https://localhost:8080/"
        },
        "id": "aEy3oehqiPxG",
        "outputId": "2419a72c-00d4-4e5f-8685-ef1948925daf"
      },
      "execution_count": null,
      "outputs": [
        {
          "output_type": "stream",
          "name": "stdout",
          "text": [
            "Mounted at /content/drive/\n"
          ]
        }
      ]
    },
    {
      "cell_type": "code",
      "source": [
        "file = '/content/lab_inflammation-01.csv'\n",
        "data = np.loadtxt(file, delimiter=',', dtype=np.int32)"
      ],
      "metadata": {
        "id": "g4EMgUP9iyeZ"
      },
      "execution_count": null,
      "outputs": []
    },
    {
      "cell_type": "code",
      "source": [
        "data.shape"
      ],
      "metadata": {
        "colab": {
          "base_uri": "https://localhost:8080/"
        },
        "id": "hr5DHQqFjSMB",
        "outputId": "a32da331-d8da-4783-a3d9-4939c340df28"
      },
      "execution_count": null,
      "outputs": [
        {
          "output_type": "execute_result",
          "data": {
            "text/plain": [
              "(60, 40)"
            ]
          },
          "metadata": {},
          "execution_count": 55
        }
      ]
    },
    {
      "cell_type": "code",
      "source": [
        "data[:5]"
      ],
      "metadata": {
        "colab": {
          "base_uri": "https://localhost:8080/"
        },
        "id": "pEZ_m5tykMue",
        "outputId": "16b2c3ae-0d27-487e-e6f2-2f51ca62687c"
      },
      "execution_count": null,
      "outputs": [
        {
          "output_type": "execute_result",
          "data": {
            "text/plain": [
              "array([[ 0,  0,  1,  3,  1,  2,  4,  7,  8,  3,  3,  3, 10,  5,  7,  4,\n",
              "         7,  7, 12, 18,  6, 13, 11, 11,  7,  7,  4,  6,  8,  8,  4,  4,\n",
              "         5,  7,  3,  4,  2,  3,  0,  0],\n",
              "       [ 0,  1,  2,  1,  2,  1,  3,  2,  2,  6, 10, 11,  5,  9,  4,  4,\n",
              "         7, 16,  8,  6, 18,  4, 12,  5, 12,  7, 11,  5, 11,  3,  3,  5,\n",
              "         4,  4,  5,  5,  1,  1,  0,  1],\n",
              "       [ 0,  1,  1,  3,  3,  2,  6,  2,  5,  9,  5,  7,  4,  5,  4, 15,\n",
              "         5, 11,  9, 10, 19, 14, 12, 17,  7, 12, 11,  7,  4,  2, 10,  5,\n",
              "         4,  2,  2,  3,  2,  2,  1,  1],\n",
              "       [ 0,  0,  2,  0,  4,  2,  2,  1,  6,  7, 10,  7,  9, 13,  8,  8,\n",
              "        15, 10, 10,  7, 17,  4,  4,  7,  6, 15,  6,  4,  9, 11,  3,  5,\n",
              "         6,  3,  3,  4,  2,  3,  2,  1],\n",
              "       [ 0,  1,  1,  3,  3,  1,  3,  5,  2,  4,  4,  7,  6,  5,  3, 10,\n",
              "         8, 10,  6, 17,  9, 14,  9,  7, 13,  9, 12,  6,  7,  7,  9,  6,\n",
              "         3,  2,  2,  4,  2,  0,  1,  1]], dtype=int32)"
            ]
          },
          "metadata": {},
          "execution_count": 56
        }
      ]
    },
    {
      "cell_type": "code",
      "source": [
        "data[-1]"
      ],
      "metadata": {
        "colab": {
          "base_uri": "https://localhost:8080/"
        },
        "id": "xP0nAc4skOc6",
        "outputId": "1855f058-168f-4e0a-a253-0759dec5db6d"
      },
      "execution_count": null,
      "outputs": [
        {
          "output_type": "execute_result",
          "data": {
            "text/plain": [
              "array([ 0,  0,  1,  0,  3,  2,  5,  4,  8,  2,  9,  3,  3, 10, 12,  9, 14,\n",
              "       11, 13,  8,  6, 18, 11,  9, 13, 11,  8,  5,  5,  2,  8,  5,  3,  5,\n",
              "        4,  1,  3,  1,  1,  0], dtype=int32)"
            ]
          },
          "metadata": {},
          "execution_count": 57
        }
      ]
    },
    {
      "cell_type": "code",
      "source": [
        "print('최댓값: ', np.max(data))\n",
        "print('최솟값: ', np.min(data))\n",
        "print('표준편차: ', np.std(data))"
      ],
      "metadata": {
        "colab": {
          "base_uri": "https://localhost:8080/"
        },
        "id": "YuAZzNzrkscf",
        "outputId": "06cc663d-cd33-466a-f19c-8975d8400d74"
      },
      "execution_count": null,
      "outputs": [
        {
          "output_type": "stream",
          "name": "stdout",
          "text": [
            "최댓값:  20\n",
            "최솟값:  0\n",
            "표준편차:  4.613833197118566\n"
          ]
        }
      ]
    },
    {
      "cell_type": "code",
      "source": [
        "print('첫번째 환자(patient 0)의 최대 염증수치: ', np.max(data[0, :]))"
      ],
      "metadata": {
        "colab": {
          "base_uri": "https://localhost:8080/"
        },
        "id": "gqY-f4mklIMJ",
        "outputId": "bc9b149d-4545-4d45-f843-87e517e0e4a1"
      },
      "execution_count": null,
      "outputs": [
        {
          "output_type": "stream",
          "name": "stdout",
          "text": [
            "첫번째 환자(patient 0)의 최대 염증수치:  18\n"
          ]
        }
      ]
    }
  ]
}