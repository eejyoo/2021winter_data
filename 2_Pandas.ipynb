{
  "nbformat": 4,
  "nbformat_minor": 0,
  "metadata": {
    "colab": {
      "name": "2_Pandas.ipynb",
      "provenance": [],
      "collapsed_sections": [],
      "authorship_tag": "ABX9TyN9d3H5ZkJcgA/ICxwKTs2c",
      "include_colab_link": true
    },
    "kernelspec": {
      "name": "python3",
      "display_name": "Python 3"
    },
    "language_info": {
      "name": "python"
    }
  },
  "cells": [
    {
      "cell_type": "markdown",
      "metadata": {
        "id": "view-in-github",
        "colab_type": "text"
      },
      "source": [
        "<a href=\"https://colab.research.google.com/github/eejyoo/2021winter_data/blob/main/2_Pandas.ipynb\" target=\"_parent\"><img src=\"https://colab.research.google.com/assets/colab-badge.svg\" alt=\"Open In Colab\"/></a>"
      ]
    },
    {
      "cell_type": "markdown",
      "source": [
        "#2. Pandas\n",
        "\n",
        "\n",
        "*   데이터 조작 및 분석을 위한 파이썬 라이브러리\n",
        "*   Series와 DataFrame 형태로 데이터를 다룸.\n",
        "\n"
      ],
      "metadata": {
        "id": "azWGGLRenUv6"
      }
    },
    {
      "cell_type": "markdown",
      "source": [
        "(1) Series\n",
        "\n",
        "\n",
        "*   Numpy array가 보강된 형태로, data와 index를 가지고 있음.\n",
        "*   하나의 컬럼만 가짐.\n",
        "*   data와 index 매개변수를 각각 넣어주는 방법 / dictionary를 매개변수로 넣어주는 방법\n",
        "\n"
      ],
      "metadata": {
        "id": "Vm57lWHJdywc"
      }
    },
    {
      "cell_type": "code",
      "execution_count": null,
      "metadata": {
        "id": "zNqVkECwnRQ-"
      },
      "outputs": [],
      "source": [
        "''' 딕셔너리 값\n",
        "korea : 5180\n",
        "japan : 12718\n",
        "china : 141500\n",
        "usa : 32676\n",
        "'''\n",
        "\n",
        "import numpy as np\n",
        "import pandas as pd"
      ]
    },
    {
      "cell_type": "code",
      "source": [
        "country = pd.Series([5180, 12718, 141500, 32676], index=['korea', 'japan', 'china', 'usa'])\n",
        "country"
      ],
      "metadata": {
        "id": "O5BPKi9xetUH"
      },
      "execution_count": null,
      "outputs": []
    },
    {
      "cell_type": "markdown",
      "source": [
        "(2) DataFrame\n",
        "\n",
        "*   여러 개의 컬럼 값을 가짐."
      ],
      "metadata": {
        "id": "dwlW8MFVe8BE"
      }
    },
    {
      "cell_type": "code",
      "source": [
        "population_dict = {\n",
        "    'korea': 5180,\n",
        "    'japan': 12718,\n",
        "    'china': 141500,\n",
        "    'usa': 32676\n",
        "}"
      ],
      "metadata": {
        "id": "uAzFbP4te5xq"
      },
      "execution_count": null,
      "outputs": []
    },
    {
      "cell_type": "code",
      "source": [
        "population = "
      ],
      "metadata": {
        "id": "BLxhGE_ifZ5k"
      },
      "execution_count": null,
      "outputs": []
    },
    {
      "cell_type": "code",
      "source": [
        "gdp_dict = {\n",
        "    'korea': 169320000,\n",
        "    'japan': 516700000,\n",
        "    'china': 1409250000,\n",
        "    'usa': 2041280000\n",
        "}\n",
        "gdp = "
      ],
      "metadata": {
        "id": "3KDkO9zofifo"
      },
      "execution_count": null,
      "outputs": []
    },
    {
      "cell_type": "code",
      "source": [
        "country =\n",
        "country"
      ],
      "metadata": {
        "id": "7PlPqaLCf3q7"
      },
      "execution_count": null,
      "outputs": []
    },
    {
      "cell_type": "markdown",
      "source": [
        "\n",
        "\n",
        "*   새로운 컬럼 추가하기\n",
        " - 기본 값은 NaN\n"
      ],
      "metadata": {
        "id": "ugmL_k8IY1VK"
      }
    },
    {
      "cell_type": "code",
      "source": [
        "gdp_per_capita = country['gdp'] / country['population']\n",
        "\n",
        "country"
      ],
      "metadata": {
        "id": "_BLfMju3hjcS"
      },
      "execution_count": null,
      "outputs": []
    },
    {
      "cell_type": "markdown",
      "source": [
        "* 데이터프레임 값으로 정렬하기"
      ],
      "metadata": {
        "id": "HRms70_IY7J7"
      }
    },
    {
      "cell_type": "code",
      "source": [
        "raw_data = {'성': ['손', '이', '류', '김'],\n",
        "           '이름': ['흥민', '강인', '현진', '광현'],\n",
        "           '나이': [27, 19, 32, 31],\n",
        "            '팀': ['Tottenham', 'Valencia', 'Toronto', 'Saint Louis']}\n",
        "df = pd.DataFrame(raw_data)\n",
        "df"
      ],
      "metadata": {
        "id": "rWNAuk8EjWCD"
      },
      "execution_count": null,
      "outputs": []
    },
    {
      "cell_type": "code",
      "source": [
        "# '성'을 기준으로 오름차순으로 정렬하기\n",
        "s_df1 = \n",
        "s_df1"
      ],
      "metadata": {
        "id": "uo6oLS3Qcu5b"
      },
      "execution_count": null,
      "outputs": []
    },
    {
      "cell_type": "code",
      "source": [
        "# '나이'를 기준으로 내림차순으로 정렬하기\n",
        "s_df2 = \n",
        "s_df2"
      ],
      "metadata": {
        "id": "g7Ya62nLdEoa"
      },
      "execution_count": null,
      "outputs": []
    },
    {
      "cell_type": "markdown",
      "source": [
        "(3) 집계함수"
      ],
      "metadata": {
        "id": "t6lnyubveMxz"
      }
    },
    {
      "cell_type": "code",
      "source": [
        "import numpy as np\n",
        "import pandas as pd\n",
        "\n",
        "data = {\n",
        "    'korean': [50,60,70],\n",
        "    'math': [10,np.nan,40]\n",
        "}\n",
        "\n",
        "df = pd.DataFrame(data, index=['a', 'b', 'c'])\n",
        "df"
      ],
      "metadata": {
        "id": "RBupv9hPeSQx"
      },
      "execution_count": null,
      "outputs": []
    },
    {
      "cell_type": "code",
      "source": [
        "# 각 컬럼별 데이터 개수 구하기\n"
      ],
      "metadata": {
        "id": "3xcrq24NdyNY"
      },
      "execution_count": null,
      "outputs": []
    },
    {
      "cell_type": "code",
      "source": [
        "# 각 행별 데이터 개수 구하기\n"
      ],
      "metadata": {
        "id": "9MLXk27ygvGT"
      },
      "execution_count": null,
      "outputs": []
    },
    {
      "cell_type": "code",
      "source": [
        "# 각 컬럼별 최댓값 구하기\n"
      ],
      "metadata": {
        "id": "fHX3rq9Xgx6I"
      },
      "execution_count": null,
      "outputs": []
    },
    {
      "cell_type": "code",
      "source": [
        "# 각 컬럼별 최솟값 구하기\n"
      ],
      "metadata": {
        "id": "8OkIrkxBg0cJ"
      },
      "execution_count": null,
      "outputs": []
    },
    {
      "cell_type": "code",
      "source": [
        "# 각 컬럼별 합계 구하기\n"
      ],
      "metadata": {
        "id": "JW-YYWgAg4Zt"
      },
      "execution_count": null,
      "outputs": []
    },
    {
      "cell_type": "code",
      "source": [
        "# 컬럼의 최솟값으로 NaN 값 대체하기\n"
      ],
      "metadata": {
        "id": "e8CSm_7Kg7AH"
      },
      "execution_count": null,
      "outputs": []
    },
    {
      "cell_type": "code",
      "source": [
        "# 각 컬럼별 평균 구하기\n"
      ],
      "metadata": {
        "id": "M7cxQF_XhC9Z"
      },
      "execution_count": null,
      "outputs": []
    },
    {
      "cell_type": "markdown",
      "source": [
        "(4) 그룹으로 묶기"
      ],
      "metadata": {
        "id": "A0qpJzEOkUfG"
      }
    }
  ]
}