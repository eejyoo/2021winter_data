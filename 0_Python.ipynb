{
  "nbformat": 4,
  "nbformat_minor": 0,
  "metadata": {
    "colab": {
      "name": "0_Python.ipynb",
      "provenance": [],
      "collapsed_sections": [],
      "authorship_tag": "ABX9TyO8XvuYT7R/pjeK+vAm1zMd",
      "include_colab_link": true
    },
    "kernelspec": {
      "name": "python3",
      "display_name": "Python 3"
    },
    "language_info": {
      "name": "python"
    }
  },
  "cells": [
    {
      "cell_type": "markdown",
      "metadata": {
        "id": "view-in-github",
        "colab_type": "text"
      },
      "source": [
        "<a href=\"https://colab.research.google.com/github/eejyoo/2021winter_data/blob/main/0_Python.ipynb\" target=\"_parent\"><img src=\"https://colab.research.google.com/assets/colab-badge.svg\" alt=\"Open In Colab\"/></a>"
      ]
    },
    {
      "cell_type": "markdown",
      "source": [
        "데이터 분석은 파이썬 언어를 기반으로 합니다.\n",
        "기본적인 파이썬에 데이터 분석을 위한 라이브러리를 추가, 활용합니다.\n",
        "\n",
        "#1.기본 입출력\n",
        "\n",
        "(1) 출력\n",
        " - print() 안에 숫자 또는 '문자'를 넣어 출력함"
      ],
      "metadata": {
        "id": "UMAX-NJodGQP"
      }
    },
    {
      "cell_type": "code",
      "source": [
        "print(1)"
      ],
      "metadata": {
        "id": "sGzK1S83dF4y"
      },
      "execution_count": null,
      "outputs": []
    },
    {
      "cell_type": "code",
      "source": [
        "print(1+2)"
      ],
      "metadata": {
        "id": "fWbXrOU9d_ex"
      },
      "execution_count": null,
      "outputs": []
    },
    {
      "cell_type": "code",
      "execution_count": null,
      "metadata": {
        "id": "sUaw9ytfc7sM"
      },
      "outputs": [],
      "source": [
        "print('python')"
      ]
    },
    {
      "cell_type": "code",
      "source": [
        "print('python','좋아요')"
      ],
      "metadata": {
        "id": "sTNz8SQ2d8Sp"
      },
      "execution_count": null,
      "outputs": []
    },
    {
      "cell_type": "markdown",
      "source": [
        "(2) 입력\n",
        " - input() 함수를 사용함\n",
        " - () 안에 입력받기 전의 설명문을 입력할 수도 있음\n",
        " - 입력받으면 변수에 저장해서 활용함\n",
        " - 입력받은 것은 str 데이터형임"
      ],
      "metadata": {
        "id": "txVj4cmXej6r"
      }
    },
    {
      "cell_type": "code",
      "source": [
        "a = input()\n",
        "print(a)"
      ],
      "metadata": {
        "id": "MdGUvk1HejfZ"
      },
      "execution_count": null,
      "outputs": []
    },
    {
      "cell_type": "code",
      "source": [
        "a = input('정수를 입력하세요: ')\n",
        "print(a+2)"
      ],
      "metadata": {
        "id": "cQhyJowReCcH"
      },
      "execution_count": null,
      "outputs": []
    },
    {
      "cell_type": "code",
      "source": [
        "print(type(a))"
      ],
      "metadata": {
        "id": "B1l_LRwxfGKs"
      },
      "execution_count": null,
      "outputs": []
    },
    {
      "cell_type": "code",
      "source": [
        "a = int(input('정수를 입력하세요: '))\n",
        "print(a+2)"
      ],
      "metadata": {
        "id": "k0oUTkn5fPWb"
      },
      "execution_count": null,
      "outputs": []
    },
    {
      "cell_type": "markdown",
      "source": [
        "#2.리스트\n",
        "- 숫자나 문자의 모음을 저장할 수 있는 자료구조\n",
        "\n",
        "(1) 리스트의 생성\n",
        " - **리스트명[요소1, 요소2, 요소3]** 과 같은 형식으로 생성"
      ],
      "metadata": {
        "id": "NHNumDKpfogX"
      }
    },
    {
      "cell_type": "code",
      "source": [
        "a = []\n",
        "b = [1, 2, 3]\n",
        "c = ['대전', '용산', '고등학교']"
      ],
      "metadata": {
        "id": "1HL8RdbifUtL"
      },
      "execution_count": null,
      "outputs": []
    },
    {
      "cell_type": "markdown",
      "source": [
        "(2) 인덱싱 & 슬라이싱\n",
        "- 인덱스는 0부터 시작함\n",
        "- 인덱스 -1은 마지막 요소를 의미함\n",
        "- 슬라이싱은 구하고자 하는 인덱스를 **[시작인덱스:마지막인덱스+1]** 로 표현함\n",
        "- 슬라이싱 인덱스를 생략하면 기본으로 처음인덱스와 끝인덱스가 적용됨"
      ],
      "metadata": {
        "id": "apa1ylRShRXl"
      }
    },
    {
      "cell_type": "code",
      "source": [
        "b[0] + b[2]"
      ],
      "metadata": {
        "id": "--5L8o3ShF1R"
      },
      "execution_count": null,
      "outputs": []
    },
    {
      "cell_type": "code",
      "source": [
        "c[-1]"
      ],
      "metadata": {
        "id": "MAPiK6l8hJu-"
      },
      "execution_count": null,
      "outputs": []
    },
    {
      "cell_type": "code",
      "source": [
        "a = [1,2,3,4,5]\n",
        "a[0:2]"
      ],
      "metadata": {
        "id": "BrOyml1PhN_P"
      },
      "execution_count": null,
      "outputs": []
    },
    {
      "cell_type": "code",
      "source": [
        "a[:]"
      ],
      "metadata": {
        "id": "SX47cC4-h4JE"
      },
      "execution_count": null,
      "outputs": []
    },
    {
      "cell_type": "code",
      "source": [
        "a[:3]"
      ],
      "metadata": {
        "id": "_E48m-mEiWAV"
      },
      "execution_count": null,
      "outputs": []
    },
    {
      "cell_type": "code",
      "source": [
        "a[4:]"
      ],
      "metadata": {
        "id": "AakgaJILiXcn"
      },
      "execution_count": null,
      "outputs": []
    },
    {
      "cell_type": "markdown",
      "source": [
        "(3) 수정과 삭제\n",
        "- 수정은 인덱스를 직접 지정해서 실행함\n",
        "- 삭제는 del 함수를 사용함"
      ],
      "metadata": {
        "id": "gtXaCtrhiovu"
      }
    },
    {
      "cell_type": "code",
      "source": [
        "a[2] = 10\n",
        "a"
      ],
      "metadata": {
        "id": "t-y7VO03iobl"
      },
      "execution_count": null,
      "outputs": []
    },
    {
      "cell_type": "code",
      "source": [
        "del a[2]\n",
        "a"
      ],
      "metadata": {
        "id": "wQuu1aWGiZIW"
      },
      "execution_count": null,
      "outputs": []
    },
    {
      "cell_type": "code",
      "source": [
        "del a[2:]\n",
        "a"
      ],
      "metadata": {
        "id": "Vun7vtmojXyP"
      },
      "execution_count": null,
      "outputs": []
    },
    {
      "cell_type": "markdown",
      "source": [
        "(4) 리스트 관련 함수들\n",
        "- append : 추가\n",
        "- sort : 오름차순 정렬\n",
        "- reverse : 뒤집기\n",
        "- index : 위치(index) 반환\n",
        "- insert : 지정된 위치에 삽입\n",
        "- remove : 삭제\n",
        "- pop : 마지막 요소 반환하고 리스트에서 삭제\n",
        "- count : 개수 세기"
      ],
      "metadata": {
        "id": "tBVELfPGjLj1"
      }
    },
    {
      "cell_type": "code",
      "source": [
        ""
      ],
      "metadata": {
        "id": "V3uked5WjLSD"
      },
      "execution_count": null,
      "outputs": []
    },
    {
      "cell_type": "code",
      "source": [
        ""
      ],
      "metadata": {
        "id": "w7GVf3qijJ0o"
      },
      "execution_count": null,
      "outputs": []
    },
    {
      "cell_type": "markdown",
      "source": [
        "#**<< 연습 >>**\n",
        "\n"
      ],
      "metadata": {
        "id": "j9n8C2s8kgYW"
      }
    },
    {
      "cell_type": "markdown",
      "source": [
        "#3. if문\n",
        "\n",
        "\n",
        "```\n",
        "if 조건문1:\n",
        "    수행할 문장1\n",
        "    수행할 문장2\n",
        "elif 조건문2:\n",
        "    수행할 문장1\n",
        "    수행할 문장2\n",
        "else:\n",
        "    수행할 문장\n",
        "```"
      ],
      "metadata": {
        "id": "CtDvckZElhQW"
      }
    },
    {
      "cell_type": "code",
      "source": [
        "card = True\n",
        "\n",
        "if card:\n",
        "  print('버스를 탄다.')\n",
        "else:\n",
        "  print('그냥 걷는다.')"
      ],
      "metadata": {
        "id": "N-L2BO9LoG1l"
      },
      "execution_count": null,
      "outputs": []
    },
    {
      "cell_type": "code",
      "source": [
        "grade = [1,2,3]\n",
        "if 4 in grade:\n",
        "  print('초등학교냐? 대학교냐?')\n",
        "else:\n",
        "  print('중학교나? 고등학교냐?')"
      ],
      "metadata": {
        "id": "8woyUMQSoGlS"
      },
      "execution_count": null,
      "outputs": []
    },
    {
      "cell_type": "code",
      "source": [
        "if (4 in grade) and (6 not in grade):\n",
        "  print('초등학교가 확실!')\n",
        "else:\n",
        "  print('아몰랑!')"
      ],
      "metadata": {
        "id": "oC0ol0sPo96r"
      },
      "execution_count": null,
      "outputs": []
    },
    {
      "cell_type": "code",
      "source": [
        "score = int(input('점수 좀 입력해봐봐 : '))\n",
        "print('success' if score>=70 else 'failure')"
      ],
      "metadata": {
        "id": "_wrfbQYUpWVz"
      },
      "execution_count": null,
      "outputs": []
    },
    {
      "cell_type": "markdown",
      "source": [
        "#4.for문\n",
        "\n",
        "\n",
        "```\n",
        "for 변수 in 리스트(또는 튜플, 문자열):\n",
        "    수행할 문장1\n",
        "    수행할 문장2\n",
        "    ...\n",
        "```\n",
        "\n"
      ],
      "metadata": {
        "id": "iZgpyYnEqB-2"
      }
    },
    {
      "cell_type": "code",
      "source": [
        "a = ['one', 'two', 'three']\n",
        "for i in a:\n",
        "  print(i)"
      ],
      "metadata": {
        "id": "iWIHIM2Lq5kx"
      },
      "execution_count": null,
      "outputs": []
    },
    {
      "cell_type": "code",
      "source": [
        "sum = 0\n",
        "for i in range(1, 11):\n",
        "  sum = sum + i\n",
        "print(sum)"
      ],
      "metadata": {
        "id": "QzQGBIJVqBi7"
      },
      "execution_count": null,
      "outputs": []
    },
    {
      "cell_type": "code",
      "source": [
        "a = [1, 2, 3, 4]\n",
        "result = []\n",
        "\n",
        "for i in a:\n",
        "  result.append(i*3)\n",
        "\n",
        "result"
      ],
      "metadata": {
        "id": "WEM2jLuap4G-"
      },
      "execution_count": null,
      "outputs": []
    },
    {
      "cell_type": "code",
      "source": [
        "a = [1, 2, 3, 4]\n",
        "result = [i*3 for i in a]\n",
        "\n",
        "result"
      ],
      "metadata": {
        "id": "aFT3RwHOKYRB"
      },
      "execution_count": null,
      "outputs": []
    },
    {
      "cell_type": "code",
      "source": [
        "a = [1, 2, 3, 4]\n",
        "result = [i*3 for i in a if i%2==0]\n",
        "\n",
        "result"
      ],
      "metadata": {
        "id": "APHxJY9yKkud"
      },
      "execution_count": null,
      "outputs": []
    }
  ]
}